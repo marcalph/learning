{
 "cells": [
  {
   "cell_type": "markdown",
   "metadata": {},
   "source": []
  },
  {
   "cell_type": "markdown",
   "metadata": {},
   "source": [
    "# 2.1 data manipulation\n",
    "\n",
    "\n",
    "\n"
   ]
  },
  {
   "cell_type": "code",
   "execution_count": null,
   "metadata": {},
   "outputs": [],
   "source": [
    "# broadcasting\n",
    "import torch\n",
    "a = torch.arange(3).reshape((3, 1))\n",
    "b = torch.arange(2).reshape((1, 2))\n",
    "print(a,b)\n",
    "print(a+b)\n",
    "print(a+torch.arange(12).reshape((2,2,1,3,1)))\n",
    "print('=====')\n",
    "# saving memory adresses\n",
    "before = id(a)\n",
    "a = a + b\n",
    "print(id(a) == before) # False\n",
    "print('id(a):', id(a))\n",
    "a[:] = a + b\n",
    "print('id(a):', id(a))\n",
    "before = id(a)\n",
    "a += b\n",
    "print(id(a) == before)\n",
    "print('=====')\n",
    "# conversions\n",
    "A = a.numpy()\n",
    "B = torch.from_numpy(A)\n",
    "print(type(A), type(B))\n",
    "a = torch.tensor([3.5])\n",
    "print(a, a.item(), float(a), int(a))"
   ]
  },
  {
   "cell_type": "markdown",
   "metadata": {},
   "source": [
    "# 2.3 linear algebra"
   ]
  },
  {
   "cell_type": "code",
   "execution_count": null,
   "metadata": {},
   "outputs": [],
   "source": [
    "import torch\n",
    "# scalars\n",
    "x = torch.tensor(3.0)\n",
    "y = torch.tensor(2.0)\n",
    "print(x + y, x * y, x / y, x**y)\n",
    "print('=====')\n",
    "# vectors\n",
    "x = torch.arange(3)\n",
    "print(x)\n",
    "print(x.shape) # order is number of axes, dimension is number of components\n",
    "print('=====')\n",
    "# matrices\n",
    "A = torch.arange(6).reshape(2, 3)\n",
    "print(A)\n",
    "print(A.T) # transpose\n",
    "print('=====')\n",
    "# reductions\n",
    "print(A.sum(axis=1))\n",
    "print(A.sum(axis=1, keepdim=True)) # useful for broadcasting\n",
    "print(A/A.sum(axis=1, keepdim=True))\n",
    "print(A.cumsum(axis=0))\n",
    "print('=====')\n",
    "# dot products\n",
    "y = torch.ones(3, dtype = torch.float32)\n",
    "print(x, y, torch.dot(x.float(), y))\n",
    "print('=====')\n",
    "# matrix products\n",
    "print(A.shape, x.shape, torch.mv(A, x), A@x)\n",
    "B = torch.ones(3, 4, dtype=int)\n",
    "print(torch.mm(A, B))\n",
    "print(A@B)\n",
    "print('=====')\n",
    "# norms\n",
    "u = torch.tensor([3.0, -4.0])\n",
    "torch.norm(u) # l2 norm\n",
    "torch.abs(u).sum() # l1 norm\n",
    "torch.norm(torch.ones((4, 9))) # froebenius norm, sqrt of sum of squared elements\n",
    "\n"
   ]
  },
  {
   "cell_type": "markdown",
   "metadata": {},
   "source": [
    "# 2.4 calculus"
   ]
  },
  {
   "cell_type": "code",
   "execution_count": null,
   "metadata": {},
   "outputs": [],
   "source": [
    "%matplotlib inline\n",
    "import numpy as np\n",
    "from matplotlib_inline import backend_inline\n",
    "from d2l import torch as d2l\n",
    "def f(x):\n",
    "    return 3 * x ** 2 - 4 * x\n",
    "\n",
    "for h in 10.0**np.arange(-1, -6, -1):\n",
    "    print(f'h={h:.5f}, numerical limit={(f(1+h)-f(1))/h:.5f}')"
   ]
  },
  {
   "cell_type": "markdown",
   "metadata": {},
   "source": [
    "# 2.5 autodiff"
   ]
  },
  {
   "cell_type": "code",
   "execution_count": null,
   "metadata": {},
   "outputs": [],
   "source": [
    "import torch\n",
    "# simple\n",
    "x = torch.arange(4.0)\n",
    "print(x)\n",
    "x.requires_grad_(True)  # Better create `x = torch.arange(4.0, requires_grad=True)`\n",
    "print(x.grad)                  # The default value is None\n",
    "y = 2 * torch.dot(x, x)\n",
    "print(y)\n",
    "y.backward()\n",
    "print(x.grad)\n",
    "print(x.grad == 4 * x)\n",
    "print('=====')\n",
    "# non scalar\n",
    "x.grad.zero_()\n",
    "y = x * x\n",
    "# y.backward() >> error only scalar outputs\n",
    "y.backward(gradient=torch.ones(len(y)))  # Faster: y.sum().backward()\n",
    "print(x.grad)\n",
    "print('=====')\n",
    "# detaching\n",
    "x.grad.zero_()\n",
    "y = x * x\n",
    "u = y.detach()\n",
    "z = u * x\n",
    "z.sum().backward()\n",
    "print(x.grad == u)\n",
    "x.grad.zero_()\n",
    "y.sum().backward()\n",
    "x.grad == 2 * x"
   ]
  },
  {
   "cell_type": "code",
   "execution_count": null,
   "metadata": {},
   "outputs": [],
   "source": [
    "def f(a):\n",
    "    b = a * 2\n",
    "    print(a)\n",
    "    print(b)\n",
    "    while b.norm() < 1000:\n",
    "        b = b * 2\n",
    "    print(b)\n",
    "    if b.sum() > 0:\n",
    "        c = b\n",
    "    else:\n",
    "        c = 100 * b\n",
    "    print(c)\n",
    "    return c\n",
    "a = torch.randn(size=(), requires_grad=True)\n",
    "d = f(a)\n",
    "d.backward()\n",
    "print(a.grad)\n",
    "print(d)\n",
    "a.grad == d / a\n"
   ]
  },
  {
   "cell_type": "markdown",
   "metadata": {},
   "source": []
  }
 ],
 "metadata": {
  "kernelspec": {
   "display_name": "Python 3.10.2 ('learning')",
   "language": "python",
   "name": "python3"
  },
  "language_info": {
   "codemirror_mode": {
    "name": "ipython",
    "version": 3
   },
   "file_extension": ".py",
   "mimetype": "text/x-python",
   "name": "python",
   "nbconvert_exporter": "python",
   "pygments_lexer": "ipython3",
   "version": "3.10.2"
  },
  "orig_nbformat": 4,
  "vscode": {
   "interpreter": {
    "hash": "256f48422d13ffc7dd9de9706d99058d2d86ba8aa16f7010aa8dda9d13ca8219"
   }
  }
 },
 "nbformat": 4,
 "nbformat_minor": 2
}
